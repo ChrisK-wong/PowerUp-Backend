{
 "cells": [
  {
   "cell_type": "markdown",
   "source": [
    "dataset: https://www.kaggle.com/datasets/yersever/500-person-gender-height-weight-bodymassindex?resource=download"
   ],
   "metadata": {
    "collapsed": false
   }
  },
  {
   "cell_type": "code",
   "execution_count": null,
   "outputs": [],
   "source": [
    "import pandas as pd\n",
    "import numpy as np\n",
    "from sklearn.model_selection import train_test_split\n",
    "from sklearn.preprocessing import StandardScaler\n",
    "from imblearn.over_sampling import SMOTE\n",
    "import torch\n",
    "from torch import nn, optim\n",
    "import pickle\n",
    "import onnx"
   ],
   "metadata": {
    "collapsed": false
   }
  },
  {
   "cell_type": "markdown",
   "source": [
    "### Load Dataset"
   ],
   "metadata": {
    "collapsed": false
   }
  },
  {
   "cell_type": "code",
   "execution_count": null,
   "outputs": [],
   "source": [
    "data = pd.read_csv('500_Person_Gender_Height_Weight_Index.csv')\n",
    "\n",
    "data['Gender'] = data['Gender'].map({'Female': 1, 'Male': 0})\n",
    "X = data[['Gender', 'Height', 'Weight']].values\n",
    "y = data['Index'].values"
   ],
   "metadata": {
    "collapsed": false
   }
  },
  {
   "cell_type": "markdown",
   "source": [
    "### Split and transform data"
   ],
   "metadata": {
    "collapsed": false
   }
  },
  {
   "cell_type": "code",
   "execution_count": null,
   "outputs": [],
   "source": [
    "X_train, X_test, y_train, y_test = train_test_split(X, y, test_size=0.2, random_state=42)\n",
    "\n",
    "scaler = StandardScaler()\n",
    "X_train = scaler.fit_transform(X_train)\n",
    "X_test = scaler.transform(X_test)\n",
    "\n",
    "X_train, y_train = SMOTE(random_state=42).fit_resample(X_train, y_train)\n",
    "\n",
    "X_train = torch.from_numpy(X_train.astype(np.float32))\n",
    "y_train = torch.from_numpy(y_train.astype(np.float32))\n",
    "X_test = torch.from_numpy(X_test.astype(np.float32))\n",
    "y_test = torch.from_numpy(y_test.astype(np.float32))\n",
    "\n",
    "y_train = y_train.view(y_train.shape[0], 1)\n",
    "y_test = y_test.view(y_test.shape[0], 1)"
   ],
   "metadata": {
    "collapsed": false
   }
  },
  {
   "cell_type": "markdown",
   "source": [
    "### Train model"
   ],
   "metadata": {
    "collapsed": false
   }
  },
  {
   "cell_type": "code",
   "execution_count": null,
   "outputs": [],
   "source": [
    "model = nn.Sequential(\n",
    "    nn.Linear(3, 10),\n",
    "    nn.ReLU(),\n",
    "    nn.Linear(10, 10),\n",
    "    nn.ReLU(),\n",
    "    nn.Linear(10, 6)  # 6 possible classes in output\n",
    ")\n",
    "\n",
    "criterion = nn.CrossEntropyLoss()\n",
    "optimizer = optim.Adam(model.parameters(), lr=0.001)\n",
    "\n",
    "epochs = 500\n",
    "for epoch in range(epochs):\n",
    "    optimizer.zero_grad()\n",
    "    output = model(X_train)\n",
    "    loss = criterion(output, y_train.long().squeeze())\n",
    "    loss.backward()\n",
    "    optimizer.step()\n",
    "\n",
    "    if (epoch+1) % 50 == 0:\n",
    "        print(f'Epoch {epoch+1}/{epochs}, Loss: {loss.item()}')"
   ],
   "metadata": {
    "collapsed": false
   }
  },
  {
   "cell_type": "markdown",
   "source": [
    "### Save model and input scaler"
   ],
   "metadata": {
    "collapsed": false
   }
  },
  {
   "cell_type": "code",
   "execution_count": null,
   "outputs": [],
   "source": [
    "with open('input_scaler.pkl', 'wb') as f:\n",
    "    pickle.dump({\n",
    "        'mean': scaler.mean_,\n",
    "        'scale': scaler.scale_\n",
    "    }, f)\n",
    "\n",
    "# Save model as ONNX\n",
    "model.eval()\n",
    "dummy_input = torch.randn(1, 3)\n",
    "torch.onnx.export(model, dummy_input, 'model.onnx', opset_version=11)"
   ],
   "metadata": {
    "collapsed": false
   }
  },
  {
   "cell_type": "markdown",
   "source": [
    "### Prediction"
   ],
   "metadata": {
    "collapsed": false
   }
  },
  {
   "cell_type": "code",
   "execution_count": null,
   "outputs": [],
   "source": [
    "import onnxruntime\n",
    "\n",
    "session = onnxruntime.InferenceSession('model.onnx')\n",
    "\n",
    "with open('input_scaler.pkl', 'rb') as f:\n",
    "    scaler = pickle.load(f)\n",
    "\n",
    "def predict(gender, height, weight):\n",
    "    \"\"\"\n",
    "    gender: {0: male, 1: female}\n",
    "    height: cm\n",
    "    weight: kg\n",
    "    \"\"\"\n",
    "    mean = scaler['mean']\n",
    "    scale = scaler['scale']\n",
    "\n",
    "    scaled_gender = (gender - mean[0]) / scale[0]\n",
    "    scaled_height = (height - mean[1]) / scale[1]\n",
    "    scaled_weight = (weight - mean[2]) / scale[2]\n",
    "\n",
    "    input_data = [[scaled_gender, scaled_height, scaled_weight]]\n",
    "\n",
    "    input_name = session.get_inputs()[0].name\n",
    "    inputs = {input_name: input_data}\n",
    "\n",
    "    outputs = session.run(None, inputs)\n",
    "\n",
    "    output = outputs[0][0]\n",
    "    predicted_class = max(range(len(output)), key=lambda i: output[i])\n",
    "\n",
    "    return predicted_class"
   ],
   "metadata": {
    "collapsed": false
   }
  },
  {
   "cell_type": "code",
   "execution_count": null,
   "outputs": [],
   "source": [],
   "metadata": {
    "collapsed": false
   }
  }
 ],
 "metadata": {
  "kernelspec": {
   "display_name": "Python 3",
   "language": "python",
   "name": "python3"
  },
  "language_info": {
   "codemirror_mode": {
    "name": "ipython",
    "version": 2
   },
   "file_extension": ".py",
   "mimetype": "text/x-python",
   "name": "python",
   "nbconvert_exporter": "python",
   "pygments_lexer": "ipython2",
   "version": "2.7.6"
  }
 },
 "nbformat": 4,
 "nbformat_minor": 0
}
